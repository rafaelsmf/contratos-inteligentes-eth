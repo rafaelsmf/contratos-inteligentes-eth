{
 "cells": [
  {
   "cell_type": "code",
   "execution_count": 1,
   "id": "938f8566-25b7-4c17-a624-2c24e3d1725b",
   "metadata": {},
   "outputs": [
    {
     "data": {
      "text/html": [
       "\n",
       "            <div>\n",
       "                <p><b>SparkSession - in-memory</b></p>\n",
       "                \n",
       "        <div>\n",
       "            <p><b>SparkContext</b></p>\n",
       "\n",
       "            <p><a href=\"http://pyspark-notebook-0.pyspark-notebook-headless.pyspark-notebook.svc.cluster.local:4040\">Spark UI</a></p>\n",
       "\n",
       "            <dl>\n",
       "              <dt>Version</dt>\n",
       "                <dd><code>v3.5.0</code></dd>\n",
       "              <dt>Master</dt>\n",
       "                <dd><code>local[*]</code></dd>\n",
       "              <dt>AppName</dt>\n",
       "                <dd><code>BigQuery Crypto Ethereum</code></dd>\n",
       "            </dl>\n",
       "        </div>\n",
       "        \n",
       "            </div>\n",
       "        "
      ],
      "text/plain": [
       "<pyspark.sql.session.SparkSession at 0x7fd5d6c6f910>"
      ]
     },
     "execution_count": 1,
     "metadata": {},
     "output_type": "execute_result"
    }
   ],
   "source": [
    "import os\n",
    "import pyspark.sql.functions as F\n",
    "\n",
    "from pyspark.sql import SparkSession\n",
    "\n",
    "\n",
    "\n",
    "# Caminho para o arquivo de credenciais\n",
    "credentials_path = \"/home/jovyan/work/desafio-stone-439013-cd4f41db04c5.json\"\n",
    "\n",
    "# Configurar a variável de ambiente para as credenciais do Google Cloud\n",
    "os.environ[\"GOOGLE_APPLICATION_CREDENTIALS\"] = credentials_path\n",
    "\n",
    "# Crie a sessão do Spark com o conector BigQuery\n",
    "spark = (\n",
    "    SparkSession.builder\n",
    "    .appName('BigQuery Crypto Ethereum')\n",
    "    .config('spark.jars.packages', 'com.google.cloud.spark:spark-bigquery-with-dependencies_2.12:0.30.0,org.postgresql:postgresql:42.2.23') \\\n",
    "    .config(\"spark.sql.execution.arrow.enabled\", \"true\")\n",
    "    .getOrCreate()\n",
    ")\n",
    "spark"
   ]
  },
  {
   "cell_type": "code",
   "execution_count": 8,
   "id": "08fa847c-ad0b-436a-84fb-0dade7c0fd0b",
   "metadata": {},
   "outputs": [
    {
     "name": "stdout",
     "output_type": "stream",
     "text": [
      "+--------------------+---------+------------+--------+--------------------+-------------------+------------+--------------------+\n",
      "|             address|   symbol|        name|decimals|        total_supply|    block_timestamp|block_number|          block_hash|\n",
      "+--------------------+---------+------------+--------+--------------------+-------------------+------------+--------------------+\n",
      "|0x8c9878df204f813...|      ETH|      ETH...|      18|10000000000000000...|2024-01-07 03:48:11|    18952658|0x1a30b646b63e1b4...|\n",
      "|0x2350f30623bdfd9...| MRHOODIE|NodeMrHoodie|    NULL|                  70|2024-01-09 07:07:23|    18967818|0x24854672de99f3f...|\n",
      "|0x9dfceb2c72c395f...|     SHIB|   Shiba Inu|      18|10000000000000000...|2024-01-12 23:07:35|    18993992|0xacda38289e815eb...|\n",
      "|0x948ba8fb1ec990d...|BabyTroll|   BabyTroll|      18|21000000000000000...|2024-01-15 13:16:11|    19012519|0xb722228a9836c78...|\n",
      "|0x90e24c08f767b80...|    ORDII|       ORDII|       0|            21000000|2024-01-05 13:09:11|    18941274|0x315f7bc3743b8a2...|\n",
      "+--------------------+---------+------------+--------+--------------------+-------------------+------------+--------------------+\n",
      "only showing top 5 rows\n",
      "\n"
     ]
    }
   ],
   "source": [
    "# Lendo dados do BigQuery\n",
    "project_id = \"desafio-stone-439013\"\n",
    "bigquery_table = \"bigquery-public-data.crypto_ethereum.tokens\"\n",
    "df = (\n",
    "    spark.read\n",
    "    .format(\"bigquery\") \n",
    "    .option(\"project\", project_id) \n",
    "    .option(\"table\", bigquery_table)\n",
    "    .option(\"filter\", \"DATE(block_timestamp) >= '2024-01-01'\") \\\n",
    "    .load()\n",
    ")\n",
    "\n",
    "# Exibir os dados\n",
    "df.show(5)"
   ]
  },
  {
   "cell_type": "code",
   "execution_count": 9,
   "id": "4804e840-1af4-4b0a-8b67-55acfa2d0cdf",
   "metadata": {},
   "outputs": [],
   "source": [
    "# Conexão com o PostgreSQL\n",
    "postgres_url = \"jdbc:postgresql://10.109.6.155:5432/crypto_ethereum\"\n",
    "postgres_properties = {\n",
    "    \"user\": \"admin\",\n",
    "    \"password\": \"admin\",\n",
    "    \"driver\": \"org.postgresql.Driver\"\n",
    "}\n",
    "\n",
    "# Escreve os dados no PostgreSQL\n",
    "df.write.jdbc(url=postgres_url, table=\"public.crypto_tokens\", mode=\"append\", properties=postgres_properties)"
   ]
  },
  {
   "cell_type": "code",
   "execution_count": null,
   "id": "de461064-028c-4e32-b26a-73e6639bbf52",
   "metadata": {},
   "outputs": [],
   "source": []
  },
  {
   "cell_type": "code",
   "execution_count": null,
   "id": "3b0eebb4-e748-421b-b5ce-ace022825330",
   "metadata": {},
   "outputs": [],
   "source": []
  },
  {
   "cell_type": "code",
   "execution_count": null,
   "id": "bf6da984-7ee1-450b-b526-2cd8c63d4679",
   "metadata": {},
   "outputs": [],
   "source": []
  }
 ],
 "metadata": {
  "kernelspec": {
   "display_name": "Python 3 (ipykernel)",
   "language": "python",
   "name": "python3"
  },
  "language_info": {
   "codemirror_mode": {
    "name": "ipython",
    "version": 3
   },
   "file_extension": ".py",
   "mimetype": "text/x-python",
   "name": "python",
   "nbconvert_exporter": "python",
   "pygments_lexer": "ipython3",
   "version": "3.11.6"
  }
 },
 "nbformat": 4,
 "nbformat_minor": 5
}
