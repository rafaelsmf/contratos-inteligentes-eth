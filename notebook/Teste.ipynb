{
 "cells": [
  {
   "cell_type": "code",
   "execution_count": 1,
   "id": "938f8566-25b7-4c17-a624-2c24e3d1725b",
   "metadata": {},
   "outputs": [
    {
     "data": {
      "text/html": [
       "\n",
       "            <div>\n",
       "                <p><b>SparkSession - in-memory</b></p>\n",
       "                \n",
       "        <div>\n",
       "            <p><b>SparkContext</b></p>\n",
       "\n",
       "            <p><a href=\"http://pyspark-notebook-0.pyspark-notebook-headless.pyspark-notebook.svc.cluster.local:4040\">Spark UI</a></p>\n",
       "\n",
       "            <dl>\n",
       "              <dt>Version</dt>\n",
       "                <dd><code>v3.5.0</code></dd>\n",
       "              <dt>Master</dt>\n",
       "                <dd><code>local[*]</code></dd>\n",
       "              <dt>AppName</dt>\n",
       "                <dd><code>BigQuery Crypto Ethereum</code></dd>\n",
       "            </dl>\n",
       "        </div>\n",
       "        \n",
       "            </div>\n",
       "        "
      ],
      "text/plain": [
       "<pyspark.sql.session.SparkSession at 0x7f59112da5d0>"
      ]
     },
     "execution_count": 1,
     "metadata": {},
     "output_type": "execute_result"
    }
   ],
   "source": [
    "import os\n",
    "import pyspark.sql.functions as F\n",
    "\n",
    "from pyspark.sql import SparkSession\n",
    "\n",
    "\n",
    "\n",
    "# Caminho para o arquivo de credenciais\n",
    "credentials_path = \"/home/jovyan/work/desafio-stone-439013-cd4f41db04c5.json\"\n",
    "\n",
    "# Configurar a variável de ambiente para as credenciais do Google Cloud\n",
    "os.environ[\"GOOGLE_APPLICATION_CREDENTIALS\"] = credentials_path\n",
    "\n",
    "# Crie a sessão do Spark com o conector BigQuery\n",
    "spark = (\n",
    "    SparkSession.builder\n",
    "    .appName('BigQuery Crypto Ethereum')\n",
    "    .config('spark.jars.packages', 'com.google.cloud.spark:spark-bigquery-with-dependencies_2.12:0.30.0,org.postgresql:postgresql:42.2.23') \\\n",
    "    .config(\"spark.sql.execution.arrow.enabled\", \"true\")\n",
    "    .getOrCreate()\n",
    ")\n",
    "spark"
   ]
  },
  {
   "cell_type": "code",
   "execution_count": 2,
   "id": "08fa847c-ad0b-436a-84fb-0dade7c0fd0b",
   "metadata": {},
   "outputs": [
    {
     "name": "stdout",
     "output_type": "stream",
     "text": [
      "+--------------------+--------+-------------------+--------+--------------------+-------------------+------------+--------------------+\n",
      "|             address|  symbol|               name|decimals|        total_supply|    block_timestamp|block_number|          block_hash|\n",
      "+--------------------+--------+-------------------+--------+--------------------+-------------------+------------+--------------------+\n",
      "|0x06f129ba7797790...| ROBODOG|A Dog Made of Metal|       2|10000000000000000...|2024-10-16 23:43:59|    20981480|0x658f5dee851f142...|\n",
      "|0xacb86779718b20b...| ROBODOG|A Dog Made of Metal|       2|10000000000000000...|2024-10-16 23:33:59|    20981430|0x80a02a1dab761c5...|\n",
      "|0xf3bdecf96f810a7...|ROBOShib|A Dog Made of Steel|       2|          1000000000|2024-10-16 23:47:59|    20981500|0xa44b0553ddb28cb...|\n",
      "|0x6289ee8ad48cadd...|        |                   |       8|                   0|2024-10-16 04:31:59|    20975753|0x2e16805ce0c3480...|\n",
      "+--------------------+--------+-------------------+--------+--------------------+-------------------+------------+--------------------+\n",
      "\n"
     ]
    }
   ],
   "source": [
    "# Lendo dados do BigQuery\n",
    "project_id = \"desafio-stone-439013\"\n",
    "bigquery_table = \"bigquery-public-data.crypto_ethereum.tokens\"\n",
    "df = (\n",
    "    spark.read\n",
    "    .format(\"bigquery\") \n",
    "    .option(\"project\", project_id) \n",
    "    .option(\"table\", bigquery_table)\n",
    "    .option(\"filter\", \"DATE(block_timestamp) = '2024-10-16'\") \\\n",
    "    .load()\n",
    ")\n",
    "\n",
    "# Exibir os dados\n",
    "df.show()"
   ]
  },
  {
   "cell_type": "code",
   "execution_count": 6,
   "id": "a35d4e41-827f-41d8-8d7f-824f3266925c",
   "metadata": {},
   "outputs": [
    {
     "name": "stdout",
     "output_type": "stream",
     "text": [
      "+--------------------+--------+-------------------+--------+--------------------+-------------------+------------+--------------------+\n",
      "|             address|  symbol|               name|decimals|        total_supply|    block_timestamp|block_number|          block_hash|\n",
      "+--------------------+--------+-------------------+--------+--------------------+-------------------+------------+--------------------+\n",
      "|0x06f129ba7797790...| ROBODOG|A Dog Made of Metal|       2|10000000000000000...|2024-10-16 23:43:59|    20981480|0x658f5dee851f142...|\n",
      "|0xacb86779718b20b...| ROBODOG|A Dog Made of Metal|       2|10000000000000000...|2024-10-16 23:33:59|    20981430|0x80a02a1dab761c5...|\n",
      "|0xf3bdecf96f810a7...|ROBOShib|A Dog Made of Steel|       2|          1000000000|2024-10-16 23:47:59|    20981500|0xa44b0553ddb28cb...|\n",
      "|0x6289ee8ad48cadd...|        |                   |       8|                   0|2024-10-16 04:31:59|    20975753|0x2e16805ce0c3480...|\n",
      "+--------------------+--------+-------------------+--------+--------------------+-------------------+------------+--------------------+\n",
      "\n"
     ]
    }
   ],
   "source": [
    "df = (\n",
    "    df.withColumn(\"address\", F.col(\"address\").astype(\"string\"))\n",
    "    .withColumn(\"symbol\", F.col(\"symbol\").astype(\"string\"))\n",
    "    .withColumn(\"name\", F.col(\"name\").astype(\"string\"))\n",
    "    .withColumn(\"decimals\", F.col(\"decimals\").astype(\"string\"))\n",
    "    .withColumn(\"total_supply\", F.col(\"total_supply\").astype(\"string\"))\n",
    "    .withColumn(\"block_timestamp\", F.col(\"block_timestamp\").astype(\"string\"))\n",
    "    .withColumn(\"block_number\", F.col(\"block_number\").astype(\"string\"))\n",
    "    .withColumn(\"block_hash\", F.col(\"block_hash\").astype(\"string\"))\n",
    ")\n",
    "df.show()"
   ]
  },
  {
   "cell_type": "code",
   "execution_count": 8,
   "id": "4804e840-1af4-4b0a-8b67-55acfa2d0cdf",
   "metadata": {},
   "outputs": [],
   "source": [
    "# Conexão com o PostgreSQL\n",
    "postgres_url = \"jdbc:postgresql://10.106.35.153:5432/crypto_ethereum\"\n",
    "postgres_properties = {\n",
    "    \"user\": \"admin\",\n",
    "    \"password\": \"admin\",\n",
    "    \"driver\": \"org.postgresql.Driver\"\n",
    "}\n",
    "\n",
    "# Escreve os dados no PostgreSQL\n",
    "df.write.jdbc(url=postgres_url, table=\"public.crypto_tokens\", mode=\"append\", properties=postgres_properties)"
   ]
  },
  {
   "cell_type": "code",
   "execution_count": null,
   "id": "de461064-028c-4e32-b26a-73e6639bbf52",
   "metadata": {},
   "outputs": [],
   "source": []
  },
  {
   "cell_type": "code",
   "execution_count": null,
   "id": "3b0eebb4-e748-421b-b5ce-ace022825330",
   "metadata": {},
   "outputs": [],
   "source": []
  },
  {
   "cell_type": "code",
   "execution_count": null,
   "id": "bf6da984-7ee1-450b-b526-2cd8c63d4679",
   "metadata": {},
   "outputs": [],
   "source": []
  }
 ],
 "metadata": {
  "kernelspec": {
   "display_name": "Python 3 (ipykernel)",
   "language": "python",
   "name": "python3"
  },
  "language_info": {
   "codemirror_mode": {
    "name": "ipython",
    "version": 3
   },
   "file_extension": ".py",
   "mimetype": "text/x-python",
   "name": "python",
   "nbconvert_exporter": "python",
   "pygments_lexer": "ipython3",
   "version": "3.11.6"
  }
 },
 "nbformat": 4,
 "nbformat_minor": 5
}
